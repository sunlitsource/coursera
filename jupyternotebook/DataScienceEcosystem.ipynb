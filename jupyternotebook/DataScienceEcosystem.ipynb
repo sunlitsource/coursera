{
 "cells": [
  {
   "cell_type": "markdown",
   "id": "3aeeab34-91df-4a5a-9253-45af894029c6",
   "metadata": {},
   "source": [
    "# Data Science Tools and Ecosystem"
   ]
  },
  {
   "cell_type": "markdown",
   "id": "3554f82f-504e-4ced-bb07-98aa83b79741",
   "metadata": {},
   "source": [
    "In this notebook, Data Science Tools and Ecosystem are summarized."
   ]
  },
  {
   "cell_type": "markdown",
   "id": "489c9372-363b-452f-bd89-e89609c5c866",
   "metadata": {},
   "source": [
    "Objectives:\n",
    "- List popular languages for Data Science\n",
    "- List commonly used libraries by data scientists\n",
    "- List data science tools\n",
    "- Demonstrate Python arithmetic expressions in Code blocks"
   ]
  },
  {
   "cell_type": "markdown",
   "id": "7572ffbf-368d-49c1-934c-8b7c80bac8a5",
   "metadata": {},
   "source": [
    "Some of the popular languages that Data Scientists use are:\n",
    "1. Julia\n",
    "1. Python\n",
    "1. R"
   ]
  },
  {
   "cell_type": "markdown",
   "id": "b8073001-94e5-4023-b9ec-77063157857c",
   "metadata": {},
   "source": [
    "Some of the commonly used libraries used by Data Scientists include:\n",
    "1. Pytorch\n",
    "1. Plotly\n",
    "1. Pycarat"
   ]
  },
  {
   "cell_type": "markdown",
   "id": "b9d3a38a-6926-4b69-802d-7abfba888329",
   "metadata": {},
   "source": [
    "|Data Science Tools|\n",
    "|------------------|\n",
    "|Jupytr Notebook|\n",
    "|R|\n",
    "|Matlab|"
   ]
  },
  {
   "cell_type": "markdown",
   "id": "2074d2bf-8c5f-45cf-97b5-89f67e08e153",
   "metadata": {},
   "source": [
    "Below are a few examples of evaluating arithmetic expressions in Python"
   ]
  },
  {
   "cell_type": "code",
   "execution_count": 2,
   "id": "388b188b-0549-4f67-aa31-892f62252430",
   "metadata": {
    "tags": []
   },
   "outputs": [
    {
     "data": {
      "text/plain": [
       "17"
      ]
     },
     "execution_count": 2,
     "metadata": {},
     "output_type": "execute_result"
    }
   ],
   "source": [
    "# This a simple arithmetic expression to mutiply then add integers\n",
    "(3*4)+5"
   ]
  },
  {
   "cell_type": "code",
   "execution_count": 3,
   "id": "f00ac737-a0ac-43b5-8c25-93e684915ec5",
   "metadata": {
    "tags": []
   },
   "outputs": [
    {
     "data": {
      "text/plain": [
       "3.3333333333333335"
      ]
     },
     "execution_count": 3,
     "metadata": {},
     "output_type": "execute_result"
    }
   ],
   "source": [
    "# This will convert 200 minutes to hours by diving by 60\n",
    "200/60"
   ]
  },
  {
   "cell_type": "markdown",
   "id": "0f22e99d-8785-40c4-8dea-44aa9f7acc19",
   "metadata": {},
   "source": [
    "## Author\n",
    "Sunil Tawde"
   ]
  }
 ],
 "metadata": {
  "kernelspec": {
   "display_name": "Python",
   "language": "python",
   "name": "conda-env-python-py"
  },
  "language_info": {
   "codemirror_mode": {
    "name": "ipython",
    "version": 3
   },
   "file_extension": ".py",
   "mimetype": "text/x-python",
   "name": "python",
   "nbconvert_exporter": "python",
   "pygments_lexer": "ipython3",
   "version": "3.7.12"
  }
 },
 "nbformat": 4,
 "nbformat_minor": 5
}
